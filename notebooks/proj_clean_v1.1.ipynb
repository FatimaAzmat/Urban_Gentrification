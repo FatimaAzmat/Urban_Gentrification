{
 "cells": [
  {
   "cell_type": "code",
   "execution_count": null,
   "metadata": {},
   "outputs": [],
   "source": [
    "##---------------------------------------------------------------##\n",
    "##              Import Libraries\n",
    "##---------------------------------------------------------------##\n",
    "\n",
    "import os\n",
    "import pandas as pd\n",
    "import process as pp\n",
    "\n",
    "from userinput import wd, numyr, ffolder, ffilename, cfilename"
   ]
  },
  {
   "cell_type": "code",
   "execution_count": null,
   "metadata": {},
   "outputs": [],
   "source": [
    "##---------------------------------------------------------------##\n",
    "##              Process files\n",
    "##---------------------------------------------------------------##\n",
    "\n",
    "for yr in numyr:\n",
    "    df_features = pd.read_csv(os.path.join(ffolder, str(yr) + ffilename), dtype={'geo11':str})\n",
    "    pp.chg_col(df_features)\n",
    "    df_features = pp.convert_acs_encoding(df_features)\n",
    "    df_features.drop(pp.find_unpopulated_tracts(df_features), inplace=True)\n",
    "    pp.impute_missing_values(df_features)\n",
    "    df_features.to_csv(str(yr) + cfilename)"
   ]
  }
 ],
 "metadata": {
  "kernelspec": {
   "display_name": "Python 3",
   "language": "python",
   "name": "python3"
  },
  "language_info": {
   "codemirror_mode": {
    "name": "ipython",
    "version": 3
   },
   "file_extension": ".py",
   "mimetype": "text/x-python",
   "name": "python",
   "nbconvert_exporter": "python",
   "pygments_lexer": "ipython3",
   "version": "3.7.3"
  }
 },
 "nbformat": 4,
 "nbformat_minor": 2
}
